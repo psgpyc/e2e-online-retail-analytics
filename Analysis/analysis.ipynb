{
 "cells": [
  {
   "cell_type": "code",
   "execution_count": 1,
   "id": "4a9b5aba-b484-4b73-b522-1a1056409816",
   "metadata": {},
   "outputs": [],
   "source": [
    "import pandas as pd\n",
    "import numpy as np\n",
    "import matplotlib.pyplot as plt\n",
    "import seaborn as sns\n",
    "import psycopg2 as pg"
   ]
  },
  {
   "cell_type": "code",
   "execution_count": 2,
   "id": "33682698-7b8d-4e27-88dc-49cd42a79668",
   "metadata": {},
   "outputs": [],
   "source": [
    "import warnings\n",
    "warnings.simplefilter(action='ignore', category=FutureWarning)"
   ]
  },
  {
   "cell_type": "code",
   "execution_count": 3,
   "id": "5e8228c6-a5bc-451f-89e6-930847d6c1d6",
   "metadata": {},
   "outputs": [],
   "source": [
    "db_params = {\n",
    "    \"dbname\": \"sikkaretail_db\",\n",
    "    \"user\": \"psgpyc\",\n",
    "    \"password\": \"\",\n",
    "    \"host\": \"localhost\",\n",
    "    \"port\": 5432\n",
    "}"
   ]
  },
  {
   "cell_type": "code",
   "execution_count": 4,
   "id": "958ad280-376f-4a15-9032-91ebbd9f64ec",
   "metadata": {},
   "outputs": [
    {
     "name": "stdout",
     "output_type": "stream",
     "text": [
      "Successfully Connected to the sikkaretail_db\n"
     ]
    }
   ],
   "source": [
    "try:\n",
    "    conn = pg.connect(**db_params)\n",
    "    curr = conn.cursor()\n",
    "    print(f\"Successfully Connected to the {db_params['dbname']}\")\n",
    "except psycopg2.Error as e:\n",
    "    print(\"Error connecting to the database:\", e)"
   ]
  },
  {
   "cell_type": "markdown",
   "id": "1d4e6d6e-42c2-45f6-a898-a5b81da91cd9",
   "metadata": {},
   "source": [
    "### RFM Segmentation"
   ]
  },
  {
   "cell_type": "code",
   "execution_count": 32,
   "id": "c1ff760a-e8c5-4cee-858a-81cfaec19fcc",
   "metadata": {},
   "outputs": [],
   "source": [
    "curr.execute(\n",
    "'''\n",
    "WITH customers_orders AS (\n",
    "\tSELECT\n",
    "\t\ti.customer_id,\n",
    "\t\tMAX(i.invoice_date) AS last_purchase_date,\n",
    "\t\tCOUNT(DISTINCT i.invoice_no) AS frequency, \n",
    "\t\tSUM(ii.quantity * ii.unit_price) AS monetary\n",
    "\tFROM \n",
    "\t\tinvoices i\n",
    "\tJOIN\n",
    "\t\tinvoice_items ii\n",
    "\tON \n",
    "\t\ti.invoice_no = ii.invoice_no\n",
    "\tWHERE\n",
    "\t\ti.is_cancelled = FALSE AND i.customer_id != '00000'\n",
    "\tGROUP BY\n",
    "\t\ti.customer_id),\n",
    "rfm_calculation AS (\n",
    "\tSELECT \n",
    "\t\tcustomer_id, \n",
    "\t\tDATE_PART('day', DATE '2012-01-01' - last_purchase_date) AS days_since_last_purchase, \n",
    "\t\tfrequency,\n",
    "\t\tmonetary,\n",
    "\t\t--- We want customers with lower dates to score higgher, therefore inverting the socre. // now, higher score is better // consistent with freq and mon score.\n",
    "\t\t(6 - NTILE(5) OVER (ORDER BY DATE_PART('day', DATE '2012-01-01' - last_purchase_date))) AS recency_score,\n",
    "\n",
    "\t\t--- Higer the frequency and monetary score, suggest frequent orders and high monetary value\n",
    "\t\tNTILE(5) OVER (ORDER BY frequency) AS frequency_score, \n",
    "\t\tNTILE(5) OVER (ORDER BY monetary) AS monetary_score\n",
    "\tFROM\n",
    "\t\tcustomers_orders\n",
    "), rfm_score AS (\n",
    "SELECT\n",
    "\n",
    "\tcustomer_id, \n",
    "\trecency_score, \n",
    "\tfrequency_score, \n",
    "\tmonetary_score,\n",
    "\t(recency_score+frequency_score+monetary_score) AS overall_rfm_score\n",
    "FROM\n",
    "\trfm_calculation),\n",
    "segments AS (\t\n",
    "SELECT\n",
    "\tcustomer_id, \n",
    "\toverall_rfm_score, \n",
    "\tCASE\n",
    "\t\tWHEN recency_score = 5 AND frequency_score = 5 AND monetary_score = 5 THEN 'Champions'\n",
    "\t\tWHEN overall_rfm_score >= 12 THEN 'Loyal'\n",
    "\t\tWHEN overall_rfm_score >= 9 THEN 'Less Frequent'\n",
    "\t\tWHEN overall_rfm_score >= 6 THEN 'At Risk'\n",
    "\t\tELSE 'Dormant'\n",
    "\tEND AS customer_segment\n",
    "FROM rfm_score)\n",
    "SELECT\n",
    "\tcustomer_segment,\n",
    "\tCOUNT(*) AS customer_count,\n",
    "\tROUND(COUNT(*) * 100.0 / (SELECT COUNT(*) FROM segments), 2) AS segment_percentage\n",
    "FROM\n",
    "\tsegments\n",
    "GROUP BY \n",
    "\tcustomer_segment\n",
    "''')"
   ]
  },
  {
   "cell_type": "code",
   "execution_count": 33,
   "id": "1704ee84-b3a8-410c-995c-d4990da0e054",
   "metadata": {},
   "outputs": [],
   "source": [
    "rfm = pd.DataFrame(curr.fetchall(), columns=['customer_segment','customer_count', '%_of_total'])"
   ]
  },
  {
   "cell_type": "code",
   "execution_count": 34,
   "id": "5766b7db-d20b-4bff-8fc4-be72b28b4c2c",
   "metadata": {},
   "outputs": [
    {
     "data": {
      "text/html": [
       "<div>\n",
       "<style scoped>\n",
       "    .dataframe tbody tr th:only-of-type {\n",
       "        vertical-align: middle;\n",
       "    }\n",
       "\n",
       "    .dataframe tbody tr th {\n",
       "        vertical-align: top;\n",
       "    }\n",
       "\n",
       "    .dataframe thead th {\n",
       "        text-align: right;\n",
       "    }\n",
       "</style>\n",
       "<table border=\"1\" class=\"dataframe\">\n",
       "  <thead>\n",
       "    <tr style=\"text-align: right;\">\n",
       "      <th></th>\n",
       "      <th>customer_segment</th>\n",
       "      <th>customer_count</th>\n",
       "      <th>%_of_total</th>\n",
       "    </tr>\n",
       "  </thead>\n",
       "  <tbody>\n",
       "    <tr>\n",
       "      <th>0</th>\n",
       "      <td>Less Frequent</td>\n",
       "      <td>1065</td>\n",
       "      <td>24.55</td>\n",
       "    </tr>\n",
       "    <tr>\n",
       "      <th>1</th>\n",
       "      <td>Loyal</td>\n",
       "      <td>903</td>\n",
       "      <td>20.82</td>\n",
       "    </tr>\n",
       "    <tr>\n",
       "      <th>2</th>\n",
       "      <td>Champions</td>\n",
       "      <td>344</td>\n",
       "      <td>7.93</td>\n",
       "    </tr>\n",
       "    <tr>\n",
       "      <th>3</th>\n",
       "      <td>Dormant</td>\n",
       "      <td>898</td>\n",
       "      <td>20.70</td>\n",
       "    </tr>\n",
       "    <tr>\n",
       "      <th>4</th>\n",
       "      <td>At Risk</td>\n",
       "      <td>1128</td>\n",
       "      <td>26.00</td>\n",
       "    </tr>\n",
       "  </tbody>\n",
       "</table>\n",
       "</div>"
      ],
      "text/plain": [
       "  customer_segment  customer_count %_of_total\n",
       "0    Less Frequent            1065      24.55\n",
       "1            Loyal             903      20.82\n",
       "2        Champions             344       7.93\n",
       "3          Dormant             898      20.70\n",
       "4          At Risk            1128      26.00"
      ]
     },
     "execution_count": 34,
     "metadata": {},
     "output_type": "execute_result"
    }
   ],
   "source": [
    "rfm"
   ]
  },
  {
   "cell_type": "code",
   "execution_count": 52,
   "id": "948ac507-994c-49cd-90b5-06203dd666e2",
   "metadata": {},
   "outputs": [
    {
     "data": {
      "text/plain": [
       "Text(0.5, 1.0, 'Customer Segmentation using RFM Segmentation')"
      ]
     },
     "execution_count": 52,
     "metadata": {},
     "output_type": "execute_result"
    },
    {
     "data": {
      "image/png": "[encoded data removed]",
      "text/plain": [
       "<Figure size 1000x800 with 1 Axes>"
      ]
     },
     "metadata": {},
     "output_type": "display_data"
    }
   ],
   "source": [
    "fig, ax = plt.subplots(1,1, figsize=(10,8))\n",
    "bars = sns.barplot(rfm, x='customer_segment', y='customer_count')\n",
    "for each, total_per in zip(ax.patches, rfm['%_of_total']):\n",
    "    width_ = each.get_width()\n",
    "    ax.text(each.get_x() + (width_/3), each.get_height() + 6, f\"{total_per}%\")\n",
    "\n",
    "ax.set_title('Customer Segmentation using RFM Segmentation')"
   ]
  },
  {
   "cell_type": "markdown",
   "id": "82f62479-f405-4cc0-adae-e7983a422b0d",
   "metadata": {},
   "source": [
    "## Cohert Analysis"
   ]
  },
  {
   "cell_type": "code",
   "execution_count": 57,
   "id": "513518a9-9fc4-40d1-904d-a0a7f725b13a",
   "metadata": {},
   "outputs": [],
   "source": [
    "curr.execute(\n",
    "'''\n",
    "WITH first_purchase AS (\n",
    "  SELECT \n",
    "    customer_id, \n",
    "    MIN(invoice_date) AS first_purchase_date\n",
    "  FROM invoices\n",
    "  WHERE is_cancelled = FALSE\n",
    "  GROUP BY customer_id\n",
    "),\n",
    "customer_orders AS (\n",
    "  SELECT \n",
    "    i.customer_id,\n",
    "    i.invoice_date,\n",
    "    fp.first_purchase_date,\n",
    "    DATE_TRUNC('month', fp.first_purchase_date) AS cohort_month, \n",
    "    -- Months elapsed since the first purchase // muyltiplying by year by 12 to convert in months.\n",
    "\t\n",
    "    ( (DATE_PART('year', i.invoice_date) * 12 + DATE_PART('month', i.invoice_date)) - \n",
    "      (DATE_PART('year', fp.first_purchase_date) * 12 + DATE_PART('month', fp.first_purchase_date)) ) AS months_since_first_purchase\n",
    "  FROM invoices i\n",
    "  JOIN first_purchase fp ON i.customer_id = fp.customer_id\n",
    "  WHERE i.is_cancelled = FALSE\n",
    ")\n",
    "SELECT \n",
    "  TO_CHAR(cohort_month, 'YYYY-MM') AS cohort,\n",
    "  months_since_first_purchase,\n",
    "  COUNT(DISTINCT customer_id) AS active_customers\n",
    "FROM customer_orders\n",
    "GROUP BY cohort_month, months_since_first_purchase\n",
    "ORDER BY cohort_month, months_since_first_purchase;\n",
    "\n",
    "'''    \n",
    ")"
   ]
  },
  {
   "cell_type": "code",
   "execution_count": 58,
   "id": "534d3bb3-895a-4802-8b60-21db1ad0770c",
   "metadata": {},
   "outputs": [],
   "source": [
    "cohert_df = pd.DataFrame(curr.fetchall(), columns=['cohert_by_month', 'months_since_last_purchase', 'total_customers'])"
   ]
  },
  {
   "cell_type": "code",
   "execution_count": 59,
   "id": "34c5689c-d7e4-43e9-b34c-34d5863b99e1",
   "metadata": {},
   "outputs": [
    {
     "data": {
      "text/html": [
       "<div>\n",
       "<style scoped>\n",
       "    .dataframe tbody tr th:only-of-type {\n",
       "        vertical-align: middle;\n",
       "    }\n",
       "\n",
       "    .dataframe tbody tr th {\n",
       "        vertical-align: top;\n",
       "    }\n",
       "\n",
       "    .dataframe thead th {\n",
       "        text-align: right;\n",
       "    }\n",
       "</style>\n",
       "<table border=\"1\" class=\"dataframe\">\n",
       "  <thead>\n",
       "    <tr style=\"text-align: right;\">\n",
       "      <th></th>\n",
       "      <th>cohert_by_month</th>\n",
       "      <th>months_since_last_purchase</th>\n",
       "      <th>total_customers</th>\n",
       "    </tr>\n",
       "  </thead>\n",
       "  <tbody>\n",
       "    <tr>\n",
       "      <th>0</th>\n",
       "      <td>2010-12</td>\n",
       "      <td>0.0</td>\n",
       "      <td>886</td>\n",
       "    </tr>\n",
       "    <tr>\n",
       "      <th>1</th>\n",
       "      <td>2010-12</td>\n",
       "      <td>1.0</td>\n",
       "      <td>325</td>\n",
       "    </tr>\n",
       "    <tr>\n",
       "      <th>2</th>\n",
       "      <td>2010-12</td>\n",
       "      <td>2.0</td>\n",
       "      <td>287</td>\n",
       "    </tr>\n",
       "    <tr>\n",
       "      <th>3</th>\n",
       "      <td>2010-12</td>\n",
       "      <td>3.0</td>\n",
       "      <td>341</td>\n",
       "    </tr>\n",
       "    <tr>\n",
       "      <th>4</th>\n",
       "      <td>2010-12</td>\n",
       "      <td>4.0</td>\n",
       "      <td>322</td>\n",
       "    </tr>\n",
       "    <tr>\n",
       "      <th>...</th>\n",
       "      <td>...</td>\n",
       "      <td>...</td>\n",
       "      <td>...</td>\n",
       "    </tr>\n",
       "    <tr>\n",
       "      <th>86</th>\n",
       "      <td>2011-10</td>\n",
       "      <td>1.0</td>\n",
       "      <td>86</td>\n",
       "    </tr>\n",
       "    <tr>\n",
       "      <th>87</th>\n",
       "      <td>2011-10</td>\n",
       "      <td>2.0</td>\n",
       "      <td>41</td>\n",
       "    </tr>\n",
       "    <tr>\n",
       "      <th>88</th>\n",
       "      <td>2011-11</td>\n",
       "      <td>0.0</td>\n",
       "      <td>323</td>\n",
       "    </tr>\n",
       "    <tr>\n",
       "      <th>89</th>\n",
       "      <td>2011-11</td>\n",
       "      <td>1.0</td>\n",
       "      <td>36</td>\n",
       "    </tr>\n",
       "    <tr>\n",
       "      <th>90</th>\n",
       "      <td>2011-12</td>\n",
       "      <td>0.0</td>\n",
       "      <td>41</td>\n",
       "    </tr>\n",
       "  </tbody>\n",
       "</table>\n",
       "<p>91 rows × 3 columns</p>\n",
       "</div>"
      ],
      "text/plain": [
       "   cohert_by_month  months_since_last_purchase  total_customers\n",
       "0          2010-12                         0.0              886\n",
       "1          2010-12                         1.0              325\n",
       "2          2010-12                         2.0              287\n",
       "3          2010-12                         3.0              341\n",
       "4          2010-12                         4.0              322\n",
       "..             ...                         ...              ...\n",
       "86         2011-10                         1.0               86\n",
       "87         2011-10                         2.0               41\n",
       "88         2011-11                         0.0              323\n",
       "89         2011-11                         1.0               36\n",
       "90         2011-12                         0.0               41\n",
       "\n",
       "[91 rows x 3 columns]"
      ]
     },
     "execution_count": 59,
     "metadata": {},
     "output_type": "execute_result"
    }
   ],
   "source": [
    "cohert_df"
   ]
  },
  {
   "cell_type": "code",
   "execution_count": null,
   "id": "a053ab75-6d06-46e3-803b-620347f00ef6",
   "metadata": {},
   "outputs": [],
   "source": []
  }
 ],
 "metadata": {
  "kernelspec": {
   "display_name": "Python 3 (ipykernel)",
   "language": "python",
   "name": "python3"
  },
  "language_info": {
   "codemirror_mode": {
    "name": "ipython",
    "version": 3
   },
   "file_extension": ".py",
   "mimetype": "text/x-python",
   "name": "python",
   "nbconvert_exporter": "python",
   "pygments_lexer": "ipython3",
   "version": "3.10.13"
  }
 },
 "nbformat": 4,
 "nbformat_minor": 5
}
