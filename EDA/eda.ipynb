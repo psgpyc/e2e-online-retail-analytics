{
 "cells": [
  {
   "cell_type": "code",
   "execution_count": 220,
   "id": "c06339d8-8773-4c9d-8dfd-ac46556b2f37",
   "metadata": {},
   "outputs": [],
   "source": [
    "import pandas as pd\n",
    "import numpy as np\n",
    "import matplotlib.pyplot as plt\n",
    "import seaborn as sns\n",
    "import psycopg2 as pg"
   ]
  },
  {
   "cell_type": "code",
   "execution_count": 221,
   "id": "b7cc67fb-2427-432b-86ad-46e079c971a1",
   "metadata": {},
   "outputs": [],
   "source": [
    "import warnings\n",
    "warnings.simplefilter(action='ignore', category=FutureWarning)"
   ]
  },
  {
   "cell_type": "code",
   "execution_count": 222,
   "id": "b5249b38-7e94-4416-80d7-dd79b0fb0a84",
   "metadata": {},
   "outputs": [],
   "source": [
    "db_params = {\n",
    "    \"dbname\": \"sikkaretail_db\",\n",
    "    \"user\": \"psgpyc\",\n",
    "    \"password\": \"\",\n",
    "    \"host\": \"localhost\",\n",
    "    \"port\": 5432\n",
    "}"
   ]
  },
  {
   "cell_type": "code",
   "execution_count": 223,
   "id": "e6254dc4-6c70-47b8-924f-ab1cedaf901b",
   "metadata": {},
   "outputs": [
    {
     "name": "stdout",
     "output_type": "stream",
     "text": [
      "Successfully Connected to the sikkaretail_db\n"
     ]
    }
   ],
   "source": [
    "try:\n",
    "    conn = pg.connect(**db_params)\n",
    "    curr = conn.cursor()\n",
    "    print(f\"Successfully Connected to the {db_params['dbname']}\")\n",
    "except psycopg2.Error as e:\n",
    "    print(\"Error connecting to the database:\", e)"
   ]
  },
  {
   "cell_type": "markdown",
   "id": "10293599-9e8d-46d4-8b28-92159244a8eb",
   "metadata": {},
   "source": [
    "## Insights into `customers`"
   ]
  },
  {
   "cell_type": "code",
   "execution_count": 224,
   "id": "11a558c4-fcd5-46a9-b8cb-21eebe7dc433",
   "metadata": {},
   "outputs": [
    {
     "data": {
      "text/plain": [
       "(4372,)"
      ]
     },
     "execution_count": 224,
     "metadata": {},
     "output_type": "execute_result"
    }
   ],
   "source": [
    "curr.execute(\"SELECT DISTINCT COUNT(*) FROM customers\")\n",
    "total_customers = curr.fetchone()\n",
    "total_customers"
   ]
  },
  {
   "cell_type": "markdown",
   "id": "fa6e6dd7-ebb9-46f1-8515-d003800301d2",
   "metadata": {},
   "source": [
    "### There are a total of 4372 unique customers.\n",
    "\n",
    "---"
   ]
  },
  {
   "cell_type": "code",
   "execution_count": 225,
   "id": "554028a8-2dab-48fe-900c-ca0c607b051c",
   "metadata": {},
   "outputs": [],
   "source": [
    "curr.execute('''\n",
    "SELECT \n",
    "    country,\n",
    "    COUNT(id) AS total_customers_by_country, \n",
    "    ROUND(COUNT(id) * 1.0/ (SELECT COUNT(*) FROM customers)*100, 2)  AS percentage_distribution_by_country\n",
    "FROM \n",
    "    customers\n",
    "GROUP BY\n",
    "    country\n",
    "ORDER BY \n",
    "    COUNT(id) DESC;\n",
    "''')\n",
    "customers_by_country = pd.DataFrame(curr.fetchall(), columns=['country_name', 'total_customer', '%_of_total'])"
   ]
  },
  {
   "cell_type": "code",
   "execution_count": 226,
   "id": "c06f6cd3-42ca-4e9d-8868-0bf686ca9b74",
   "metadata": {},
   "outputs": [
    {
     "data": {
      "text/html": [
       "<div>\n",
       "<style scoped>\n",
       "    .dataframe tbody tr th:only-of-type {\n",
       "        vertical-align: middle;\n",
       "    }\n",
       "\n",
       "    .dataframe tbody tr th {\n",
       "        vertical-align: top;\n",
       "    }\n",
       "\n",
       "    .dataframe thead th {\n",
       "        text-align: right;\n",
       "    }\n",
       "</style>\n",
       "<table border=\"1\" class=\"dataframe\">\n",
       "  <thead>\n",
       "    <tr style=\"text-align: right;\">\n",
       "      <th></th>\n",
       "      <th>country_name</th>\n",
       "      <th>total_customer</th>\n",
       "      <th>%_of_total</th>\n",
       "    </tr>\n",
       "  </thead>\n",
       "  <tbody>\n",
       "    <tr>\n",
       "      <th>0</th>\n",
       "      <td>United Kingdom</td>\n",
       "      <td>3949</td>\n",
       "      <td>90.32</td>\n",
       "    </tr>\n",
       "    <tr>\n",
       "      <th>1</th>\n",
       "      <td>Germany</td>\n",
       "      <td>95</td>\n",
       "      <td>2.17</td>\n",
       "    </tr>\n",
       "    <tr>\n",
       "      <th>2</th>\n",
       "      <td>France</td>\n",
       "      <td>87</td>\n",
       "      <td>1.99</td>\n",
       "    </tr>\n",
       "    <tr>\n",
       "      <th>3</th>\n",
       "      <td>Spain</td>\n",
       "      <td>31</td>\n",
       "      <td>0.71</td>\n",
       "    </tr>\n",
       "    <tr>\n",
       "      <th>4</th>\n",
       "      <td>Belgium</td>\n",
       "      <td>22</td>\n",
       "      <td>0.50</td>\n",
       "    </tr>\n",
       "  </tbody>\n",
       "</table>\n",
       "</div>"
      ],
      "text/plain": [
       "     country_name  total_customer %_of_total\n",
       "0  United Kingdom            3949      90.32\n",
       "1         Germany              95       2.17\n",
       "2          France              87       1.99\n",
       "3           Spain              31       0.71\n",
       "4         Belgium              22       0.50"
      ]
     },
     "execution_count": 226,
     "metadata": {},
     "output_type": "execute_result"
    }
   ],
   "source": [
    "customers_by_country.head()"
   ]
  },
  {
   "cell_type": "code",
   "execution_count": null,
   "id": "978728f2-9bce-4824-9094-aa485102e0d5",
   "metadata": {},
   "outputs": [],
   "source": []
  },
  {
   "cell_type": "code",
   "execution_count": 229,
   "id": "415c3675-8a50-493b-81f6-c4cb6bf71de0",
   "metadata": {},
   "outputs": [
    {
     "data": {
      "text/plain": [
       "Text(0.5, 1.0, 'Top 5 Countries by Customers')"
      ]
     },
     "execution_count": 229,
     "metadata": {},
     "output_type": "execute_result"
    },
    {
     "data": {
      "image/png": "[encoded data removed]",
      "text/plain": [
       "<Figure size 640x480 with 1 Axes>"
      ]
     },
     "metadata": {},
     "output_type": "display_data"
    }
   ],
   "source": [
    "sns.barplot(customers_by_country[customers_by_country['total_customer'] > 20], x='country_name', y='total_customer', palette='muted')\n",
    "plt.xlabel('Countries')\n",
    "plt.ylabel('Customers Count')\n",
    "plt.title('Top 5 Countries by Customers')"
   ]
  },
  {
   "cell_type": "markdown",
   "id": "f12f894f-0b53-4367-a073-79e2576a02cb",
   "metadata": {},
   "source": [
    "### 90% of our customers are from the UK. Other 35 countries contribuiton to the remaining 10%\n",
    "\n",
    "----"
   ]
  },
  {
   "cell_type": "code",
   "execution_count": 63,
   "id": "976fe637-0feb-4754-8c63-0eafa5639f70",
   "metadata": {},
   "outputs": [],
   "source": [
    "curr.execute('''\n",
    "SELECT \n",
    "    customer_id, \n",
    "    COUNT(invoice_no) AS total_order_placed\n",
    "FROM\n",
    "    invoices\n",
    "WHERE \n",
    "    customer_id != '00000'\n",
    "GROUP BY\n",
    "    customer_id\n",
    "ORDER BY\n",
    "    COUNT(invoice_no) DESC;'''\n",
    ")"
   ]
  },
  {
   "cell_type": "code",
   "execution_count": 64,
   "id": "207a69e7-de1e-4fd8-8f0d-05b6f0b3b34b",
   "metadata": {},
   "outputs": [
    {
     "data": {
      "text/html": [
       "<div>\n",
       "<style scoped>\n",
       "    .dataframe tbody tr th:only-of-type {\n",
       "        vertical-align: middle;\n",
       "    }\n",
       "\n",
       "    .dataframe tbody tr th {\n",
       "        vertical-align: top;\n",
       "    }\n",
       "\n",
       "    .dataframe thead th {\n",
       "        text-align: right;\n",
       "    }\n",
       "</style>\n",
       "<table border=\"1\" class=\"dataframe\">\n",
       "  <thead>\n",
       "    <tr style=\"text-align: right;\">\n",
       "      <th></th>\n",
       "      <th>customer_id</th>\n",
       "      <th>total_orders_placed</th>\n",
       "    </tr>\n",
       "  </thead>\n",
       "  <tbody>\n",
       "    <tr>\n",
       "      <th>0</th>\n",
       "      <td>14911.0</td>\n",
       "      <td>248</td>\n",
       "    </tr>\n",
       "    <tr>\n",
       "      <th>1</th>\n",
       "      <td>12748.0</td>\n",
       "      <td>223</td>\n",
       "    </tr>\n",
       "    <tr>\n",
       "      <th>2</th>\n",
       "      <td>17841.0</td>\n",
       "      <td>169</td>\n",
       "    </tr>\n",
       "    <tr>\n",
       "      <th>3</th>\n",
       "      <td>14606.0</td>\n",
       "      <td>128</td>\n",
       "    </tr>\n",
       "    <tr>\n",
       "      <th>4</th>\n",
       "      <td>15311.0</td>\n",
       "      <td>118</td>\n",
       "    </tr>\n",
       "    <tr>\n",
       "      <th>...</th>\n",
       "      <td>...</td>\n",
       "      <td>...</td>\n",
       "    </tr>\n",
       "    <tr>\n",
       "      <th>4366</th>\n",
       "      <td>16349.0</td>\n",
       "      <td>1</td>\n",
       "    </tr>\n",
       "    <tr>\n",
       "      <th>4367</th>\n",
       "      <td>13372.0</td>\n",
       "      <td>1</td>\n",
       "    </tr>\n",
       "    <tr>\n",
       "      <th>4368</th>\n",
       "      <td>13753.0</td>\n",
       "      <td>1</td>\n",
       "    </tr>\n",
       "    <tr>\n",
       "      <th>4369</th>\n",
       "      <td>17359.0</td>\n",
       "      <td>1</td>\n",
       "    </tr>\n",
       "    <tr>\n",
       "      <th>4370</th>\n",
       "      <td>13584.0</td>\n",
       "      <td>1</td>\n",
       "    </tr>\n",
       "  </tbody>\n",
       "</table>\n",
       "<p>4371 rows × 2 columns</p>\n",
       "</div>"
      ],
      "text/plain": [
       "     customer_id  total_orders_placed\n",
       "0        14911.0                  248\n",
       "1        12748.0                  223\n",
       "2        17841.0                  169\n",
       "3        14606.0                  128\n",
       "4        15311.0                  118\n",
       "...          ...                  ...\n",
       "4366     16349.0                    1\n",
       "4367     13372.0                    1\n",
       "4368     13753.0                    1\n",
       "4369     17359.0                    1\n",
       "4370     13584.0                    1\n",
       "\n",
       "[4371 rows x 2 columns]"
      ]
     },
     "execution_count": 64,
     "metadata": {},
     "output_type": "execute_result"
    }
   ],
   "source": [
    "total_orders_by_customers = pd.DataFrame(curr.fetchall(), columns = ['customer_id', 'total_orders_placed'])\n",
    "total_orders_by_customers"
   ]
  },
  {
   "cell_type": "code",
   "execution_count": 65,
   "id": "661f85d1-1c0b-436e-9aa8-c03d49187fda",
   "metadata": {},
   "outputs": [
    {
     "data": {
      "text/html": [
       "<div>\n",
       "<style scoped>\n",
       "    .dataframe tbody tr th:only-of-type {\n",
       "        vertical-align: middle;\n",
       "    }\n",
       "\n",
       "    .dataframe tbody tr th {\n",
       "        vertical-align: top;\n",
       "    }\n",
       "\n",
       "    .dataframe thead th {\n",
       "        text-align: right;\n",
       "    }\n",
       "</style>\n",
       "<table border=\"1\" class=\"dataframe\">\n",
       "  <thead>\n",
       "    <tr style=\"text-align: right;\">\n",
       "      <th></th>\n",
       "      <th>total_orders_placed</th>\n",
       "    </tr>\n",
       "  </thead>\n",
       "  <tbody>\n",
       "    <tr>\n",
       "      <th>count</th>\n",
       "      <td>4371.000000</td>\n",
       "    </tr>\n",
       "    <tr>\n",
       "      <th>mean</th>\n",
       "      <td>5.075726</td>\n",
       "    </tr>\n",
       "    <tr>\n",
       "      <th>std</th>\n",
       "      <td>9.332529</td>\n",
       "    </tr>\n",
       "    <tr>\n",
       "      <th>min</th>\n",
       "      <td>1.000000</td>\n",
       "    </tr>\n",
       "    <tr>\n",
       "      <th>25%</th>\n",
       "      <td>1.000000</td>\n",
       "    </tr>\n",
       "    <tr>\n",
       "      <th>50%</th>\n",
       "      <td>3.000000</td>\n",
       "    </tr>\n",
       "    <tr>\n",
       "      <th>75%</th>\n",
       "      <td>5.000000</td>\n",
       "    </tr>\n",
       "    <tr>\n",
       "      <th>max</th>\n",
       "      <td>248.000000</td>\n",
       "    </tr>\n",
       "  </tbody>\n",
       "</table>\n",
       "</div>"
      ],
      "text/plain": [
       "       total_orders_placed\n",
       "count          4371.000000\n",
       "mean              5.075726\n",
       "std               9.332529\n",
       "min               1.000000\n",
       "25%               1.000000\n",
       "50%               3.000000\n",
       "75%               5.000000\n",
       "max             248.000000"
      ]
     },
     "execution_count": 65,
     "metadata": {},
     "output_type": "execute_result"
    }
   ],
   "source": [
    "total_orders_by_customers.describe()"
   ]
  },
  {
   "cell_type": "markdown",
   "id": "3d7eaaf4-8b05-4076-b90b-783a67a8a520",
   "metadata": {},
   "source": [
    "#### On average a customer placed 5 orders with a standard deviation of 9.33. The mean is slightly larger than the median, suggesting our dataset is skewed.\n",
    "\n",
    "-------"
   ]
  },
  {
   "cell_type": "markdown",
   "id": "97fc73aa-e6b8-457a-8a90-ee1316d5d6f6",
   "metadata": {},
   "source": [
    "### Data Range"
   ]
  },
  {
   "cell_type": "code",
   "execution_count": 66,
   "id": "86528e91-9ca3-4dee-879e-3f3c26efc27a",
   "metadata": {},
   "outputs": [],
   "source": [
    "curr.execute('''\n",
    "\n",
    "WITH order_interval AS (\n",
    "SELECT\n",
    "\tMIN(invoice_date) AS first_order_date,\n",
    "\tMAX(invoice_date) AS last_order_date,\n",
    "\tAGE(MAX(invoice_date), MIN(invoice_date)) AS total_interval\n",
    "FROM\n",
    "\tinvoices)\n",
    "SELECT\n",
    "\tfirst_order_date AS from, \n",
    "\tlast_order_date AS to, \n",
    "\tCONCAT(\n",
    "\t\tEXTRACT('year' FROM total_interval),\n",
    "\t\t' years ',\n",
    "\t\tEXTRACT('days' FROM total_interval),\n",
    "\t\t' days'\n",
    "\t) AS total_interval\n",
    "FROM\n",
    "\torder_interval;\n",
    "\n",
    "''')"
   ]
  },
  {
   "cell_type": "code",
   "execution_count": 67,
   "id": "3c439085-cf4f-4773-b9ef-cee0dc5f5300",
   "metadata": {},
   "outputs": [
    {
     "data": {
      "text/html": [
       "<div>\n",
       "<style scoped>\n",
       "    .dataframe tbody tr th:only-of-type {\n",
       "        vertical-align: middle;\n",
       "    }\n",
       "\n",
       "    .dataframe tbody tr th {\n",
       "        vertical-align: top;\n",
       "    }\n",
       "\n",
       "    .dataframe thead th {\n",
       "        text-align: right;\n",
       "    }\n",
       "</style>\n",
       "<table border=\"1\" class=\"dataframe\">\n",
       "  <thead>\n",
       "    <tr style=\"text-align: right;\">\n",
       "      <th></th>\n",
       "      <th>date_of_first_order</th>\n",
       "      <th>date_of_last_order</th>\n",
       "      <th>interval</th>\n",
       "    </tr>\n",
       "  </thead>\n",
       "  <tbody>\n",
       "    <tr>\n",
       "      <th>0</th>\n",
       "      <td>2010-12-01 08:26:00</td>\n",
       "      <td>2011-12-09 12:50:00</td>\n",
       "      <td>1 years 8 days</td>\n",
       "    </tr>\n",
       "  </tbody>\n",
       "</table>\n",
       "</div>"
      ],
      "text/plain": [
       "  date_of_first_order  date_of_last_order        interval\n",
       "0 2010-12-01 08:26:00 2011-12-09 12:50:00  1 years 8 days"
      ]
     },
     "execution_count": 67,
     "metadata": {},
     "output_type": "execute_result"
    }
   ],
   "source": [
    "pd.DataFrame(curr.fetchall(), columns=['date_of_first_order', 'date_of_last_order', 'interval'])"
   ]
  },
  {
   "cell_type": "markdown",
   "id": "d45fd3d1-0329-4f8f-b559-81cc3e5a13bf",
   "metadata": {},
   "source": [
    "We are evaluating the data of 1 years 8 days."
   ]
  },
  {
   "cell_type": "markdown",
   "id": "157127f9-99e1-43ea-a0a0-00f08a9ff338",
   "metadata": {},
   "source": [
    "## Total Orders: Month-over-Month Growth Metrics"
   ]
  },
  {
   "cell_type": "code",
   "execution_count": 99,
   "id": "bcaa4bf7-a6dc-4b28-bac0-fd38572d76f4",
   "metadata": {},
   "outputs": [],
   "source": [
    "curr.execute('''\n",
    "WITH month_by_month_sales_volume AS (\n",
    "SELECT\n",
    "\tDATE_TRUNC('months', invoice_date) AS order_months, \n",
    "\tCOUNT(invoice_no) as total_orders\n",
    "FROM\n",
    "\tinvoices\n",
    "GROUP BY\n",
    "\tDATE_TRUNC('months', invoice_date)),\n",
    "month_vs_prev_month AS (\n",
    "SELECT \n",
    "\torder_months, \n",
    "\ttotal_orders AS current_month_total_orders,\n",
    "\tLAG(total_orders) OVER(ORDER BY order_months) AS prev_month_total_orders\n",
    "FROM\n",
    "\tmonth_by_month_sales_volume)\n",
    "SELECT\n",
    "\tTO_CHAR(order_months, 'YYYY-MM'), \n",
    "\tcurrent_month_total_orders,\n",
    "\tCOALESCE(prev_month_total_orders,0) AS prev_month_total_orders,\n",
    "\tROUND(COALESCE((current_month_total_orders - prev_month_total_orders) * 1.0/(prev_month_total_orders),0),2) AS per_growth\n",
    "FROM\n",
    "\tmonth_vs_prev_month;\n",
    "\n",
    "''')\n",
    "\n",
    "month_by_month_orders = pd.DataFrame(curr.fetchall(), columns=['month', 'current_month_orders', 'prev_month_orders', 'percentage_growth'])"
   ]
  },
  {
   "cell_type": "code",
   "execution_count": 100,
   "id": "5348f49d-7f78-4db9-b130-ad1d8d555635",
   "metadata": {},
   "outputs": [
    {
     "data": {
      "text/html": [
       "<div>\n",
       "<style scoped>\n",
       "    .dataframe tbody tr th:only-of-type {\n",
       "        vertical-align: middle;\n",
       "    }\n",
       "\n",
       "    .dataframe tbody tr th {\n",
       "        vertical-align: top;\n",
       "    }\n",
       "\n",
       "    .dataframe thead th {\n",
       "        text-align: right;\n",
       "    }\n",
       "</style>\n",
       "<table border=\"1\" class=\"dataframe\">\n",
       "  <thead>\n",
       "    <tr style=\"text-align: right;\">\n",
       "      <th></th>\n",
       "      <th>month</th>\n",
       "      <th>current_month_orders</th>\n",
       "      <th>prev_month_orders</th>\n",
       "      <th>percentage_growth</th>\n",
       "    </tr>\n",
       "  </thead>\n",
       "  <tbody>\n",
       "    <tr>\n",
       "      <th>0</th>\n",
       "      <td>2010-12</td>\n",
       "      <td>1955</td>\n",
       "      <td>0</td>\n",
       "      <td>0.00</td>\n",
       "    </tr>\n",
       "    <tr>\n",
       "      <th>1</th>\n",
       "      <td>2011-01</td>\n",
       "      <td>1442</td>\n",
       "      <td>1955</td>\n",
       "      <td>-0.26</td>\n",
       "    </tr>\n",
       "    <tr>\n",
       "      <th>2</th>\n",
       "      <td>2011-02</td>\n",
       "      <td>1367</td>\n",
       "      <td>1442</td>\n",
       "      <td>-0.05</td>\n",
       "    </tr>\n",
       "    <tr>\n",
       "      <th>3</th>\n",
       "      <td>2011-03</td>\n",
       "      <td>1906</td>\n",
       "      <td>1367</td>\n",
       "      <td>0.39</td>\n",
       "    </tr>\n",
       "    <tr>\n",
       "      <th>4</th>\n",
       "      <td>2011-04</td>\n",
       "      <td>1672</td>\n",
       "      <td>1906</td>\n",
       "      <td>-0.12</td>\n",
       "    </tr>\n",
       "    <tr>\n",
       "      <th>5</th>\n",
       "      <td>2011-05</td>\n",
       "      <td>2112</td>\n",
       "      <td>1672</td>\n",
       "      <td>0.26</td>\n",
       "    </tr>\n",
       "    <tr>\n",
       "      <th>6</th>\n",
       "      <td>2011-06</td>\n",
       "      <td>1969</td>\n",
       "      <td>2112</td>\n",
       "      <td>-0.07</td>\n",
       "    </tr>\n",
       "    <tr>\n",
       "      <th>7</th>\n",
       "      <td>2011-07</td>\n",
       "      <td>1862</td>\n",
       "      <td>1969</td>\n",
       "      <td>-0.05</td>\n",
       "    </tr>\n",
       "    <tr>\n",
       "      <th>8</th>\n",
       "      <td>2011-08</td>\n",
       "      <td>1689</td>\n",
       "      <td>1862</td>\n",
       "      <td>-0.09</td>\n",
       "    </tr>\n",
       "    <tr>\n",
       "      <th>9</th>\n",
       "      <td>2011-09</td>\n",
       "      <td>2268</td>\n",
       "      <td>1689</td>\n",
       "      <td>0.34</td>\n",
       "    </tr>\n",
       "    <tr>\n",
       "      <th>10</th>\n",
       "      <td>2011-10</td>\n",
       "      <td>2548</td>\n",
       "      <td>2268</td>\n",
       "      <td>0.12</td>\n",
       "    </tr>\n",
       "    <tr>\n",
       "      <th>11</th>\n",
       "      <td>2011-11</td>\n",
       "      <td>3347</td>\n",
       "      <td>2548</td>\n",
       "      <td>0.31</td>\n",
       "    </tr>\n",
       "    <tr>\n",
       "      <th>12</th>\n",
       "      <td>2011-12</td>\n",
       "      <td>995</td>\n",
       "      <td>3347</td>\n",
       "      <td>-0.70</td>\n",
       "    </tr>\n",
       "  </tbody>\n",
       "</table>\n",
       "</div>"
      ],
      "text/plain": [
       "      month  current_month_orders  prev_month_orders percentage_growth\n",
       "0   2010-12                  1955                  0              0.00\n",
       "1   2011-01                  1442               1955             -0.26\n",
       "2   2011-02                  1367               1442             -0.05\n",
       "3   2011-03                  1906               1367              0.39\n",
       "4   2011-04                  1672               1906             -0.12\n",
       "5   2011-05                  2112               1672              0.26\n",
       "6   2011-06                  1969               2112             -0.07\n",
       "7   2011-07                  1862               1969             -0.05\n",
       "8   2011-08                  1689               1862             -0.09\n",
       "9   2011-09                  2268               1689              0.34\n",
       "10  2011-10                  2548               2268              0.12\n",
       "11  2011-11                  3347               2548              0.31\n",
       "12  2011-12                   995               3347             -0.70"
      ]
     },
     "execution_count": 100,
     "metadata": {},
     "output_type": "execute_result"
    }
   ],
   "source": [
    "month_by_month_orders"
   ]
  },
  {
   "cell_type": "code",
   "execution_count": 101,
   "id": "477264ff-db67-4b5e-a5d0-937224b4b914",
   "metadata": {},
   "outputs": [
    {
     "data": {
      "text/plain": [
       "Text(0.5, 1.0, 'Total Orders: Current Month vs. Previous Month')"
      ]
     },
     "execution_count": 101,
     "metadata": {},
     "output_type": "execute_result"
    },
    {
     "data": {
      "image/png": "[encoded data removed]",
      "text/plain": [
       "<Figure size 1000x800 with 1 Axes>"
      ]
     },
     "metadata": {},
     "output_type": "display_data"
    }
   ],
   "source": [
    "fig, ax = plt.subplots(1,1, figsize=(10,8))\n",
    "\n",
    "sns.lineplot(month_by_month_orders, x='month', y='current_month_orders', label='Current Month Order Volume', marker='o' )\n",
    "sns.lineplot(month_by_month_orders, x='month', y='prev_month_orders', label='Previous Month Order Volume', marker='o',linestyle='dashed', alpha=0.3)\n",
    "ax.set_xlabel('Months')\n",
    "ax.set_ylabel('Total Orders')\n",
    "ax.set_xticks(month_by_month_orders['month'])\n",
    "ax.set_xticklabels(labels=month_by_month_orders['month'], rotation=45)  # Rotate x-axis labels\n",
    "\n",
    "ax.set_title('Total Orders: Current Month vs. Previous Month')"
   ]
  },
  {
   "cell_type": "markdown",
   "id": "53b8d3b0-51ed-495b-9bce-104072bb0878",
   "metadata": {},
   "source": [
    "# Month-over-Month Order Growth Insights\n",
    "\n",
    "The month-over-month order growth data reveals several key trends:\n",
    "\n",
    "- **Initial Decline:**  \n",
    "  - From December 2010 (1955 orders) to January 2011 (1442 orders), there was a sharp decline (-26%), followed by a smaller decline in February (-5%).  \n",
    "  - This early drop could indicate seasonality or post-holiday adjustments.\n",
    "\n",
    "- **Rebound in March:**  \n",
    "  - Orders rebounded strongly in March 2011 (1906 orders), marking a 39% increase over February.  \n",
    "  - This suggests that customer activity picked up after the initial decline.\n",
    "\n",
    "- **Fluctuating Performance Mid-Year:**  \n",
    "  - April 2011 saw a moderate decrease (-12%), followed by a recovery in May with a 26% increase, and minor fluctuations in June (-7%) and July (-5%).  \n",
    "  - These variations may reflect normal month-to-month variability or short-term market dynamics.\n",
    "\n",
    "- **Strong Growth in September to November:**  \n",
    "  - September 2011 experienced a 34% increase, October saw a further increase of 12%, and November 2011 peaked with a 31% increase, indicating a robust period of growth.\n",
    "  \n",
    "- **Drastic Drop in December 2011:**  \n",
    "  - December 2011 orders dropped sharply to 995, a -70% change from November.  \n",
    "  - This extreme decline is because we clipped our dataset on 2011-12-09"
   ]
  },
  {
   "cell_type": "code",
   "execution_count": null,
   "id": "d15cfe9e-cc0b-4971-92a4-67179af2bd94",
   "metadata": {},
   "outputs": [],
   "source": []
  },
  {
   "cell_type": "code",
   "execution_count": null,
   "id": "2166e96f-261f-43f2-9988-607d279838a9",
   "metadata": {},
   "outputs": [],
   "source": []
  },
  {
   "cell_type": "markdown",
   "id": "819e67bf-5137-4f90-8878-8601cfbcc26d",
   "metadata": {},
   "source": [
    "## Total Orders: Month-over-Month Cancelled Metrics"
   ]
  },
  {
   "cell_type": "code",
   "execution_count": 102,
   "id": "787e3ae7-7d1c-4bc5-85c3-210c3d400f13",
   "metadata": {},
   "outputs": [],
   "source": [
    "curr.execute(\n",
    "'''\n",
    "SELECT\n",
    "\tROUND(COUNT(invoice_no) * 1.0 / (SELECT COUNT(*) FROM invoices) * 100, 2) AS total_cancelled_orders\n",
    "FROM\n",
    "\tinvoices\n",
    "WHERE\n",
    "\tis_cancelled = TRUE\n",
    "''')"
   ]
  },
  {
   "cell_type": "code",
   "execution_count": 103,
   "id": "0459057f-ad91-4c07-9dad-fcaa3df857f6",
   "metadata": {},
   "outputs": [
    {
     "data": {
      "text/plain": [
       "[(Decimal('20.58'),)]"
      ]
     },
     "execution_count": 103,
     "metadata": {},
     "output_type": "execute_result"
    }
   ],
   "source": [
    "curr.fetchall()"
   ]
  },
  {
   "cell_type": "markdown",
   "id": "f3494bfa-cdbc-4ca0-9c52-b2ab1461eadc",
   "metadata": {},
   "source": [
    "### 20.58% of total orders were cancelled.\n",
    "\n",
    "Let us look into month over month by cancelled orders"
   ]
  },
  {
   "cell_type": "code",
   "execution_count": 124,
   "id": "402cf153-a0bd-40f9-b47c-9688db3c2977",
   "metadata": {},
   "outputs": [],
   "source": [
    "curr.execute('''\n",
    "\n",
    "WITH month_by_month_sales_volume AS (\n",
    "SELECT\n",
    "\tDATE_TRUNC('months', invoice_date) AS order_months, \n",
    "\tCOUNT(invoice_no) as total_orders\n",
    "FROM\n",
    "\tinvoices\n",
    "GROUP BY\n",
    "\tDATE_TRUNC('months', invoice_date)), \n",
    "month_by_month_cancelled_volume AS (\n",
    "SELECT\n",
    "\tDATE_TRUNC('months', invoice_date) AS order_months, \n",
    "\tCOUNT(invoice_no) as total_cancelled\n",
    "FROM\n",
    "\tinvoices i\n",
    "WHERE \n",
    "\tis_cancelled = TRUE\n",
    "GROUP BY\n",
    "\tDATE_TRUNC('months', invoice_date))\n",
    "SELECT \n",
    "\tTO_CHAR(mmcv.order_months, 'YYYY-MM') AS months, \n",
    "\tmmsv.total_orders AS total_order_received,\n",
    "\tmmcv.total_cancelled AS total_cancelled,\n",
    "\tROUND(((mmcv.total_cancelled * 1.0) / (total_orders))*100, 2) AS per_cancelled\n",
    "\t\n",
    "FROM \n",
    "\tmonth_by_month_cancelled_volume mmcv\n",
    "FULL OUTER JOIN\n",
    "\tmonth_by_month_sales_volume mmsv\n",
    "ON mmcv.order_months = mmsv.order_months\n",
    "ORDER BY mmcv.order_months \n",
    "\n",
    "''')"
   ]
  },
  {
   "cell_type": "code",
   "execution_count": 125,
   "id": "e57e984f-f4e2-4019-8e27-b3757177a75c",
   "metadata": {},
   "outputs": [],
   "source": [
    "total_orders_vs_cancelled_orders  = pd.DataFrame(curr.fetchall(), columns=['Order Month', 'Total Orders', 'Cancelled Orders', '% cancellation rate'])"
   ]
  },
  {
   "cell_type": "code",
   "execution_count": 126,
   "id": "208fc466-9af7-4f05-87c1-ec0acac72e78",
   "metadata": {},
   "outputs": [
    {
     "data": {
      "text/html": [
       "<div>\n",
       "<style scoped>\n",
       "    .dataframe tbody tr th:only-of-type {\n",
       "        vertical-align: middle;\n",
       "    }\n",
       "\n",
       "    .dataframe tbody tr th {\n",
       "        vertical-align: top;\n",
       "    }\n",
       "\n",
       "    .dataframe thead th {\n",
       "        text-align: right;\n",
       "    }\n",
       "</style>\n",
       "<table border=\"1\" class=\"dataframe\">\n",
       "  <thead>\n",
       "    <tr style=\"text-align: right;\">\n",
       "      <th></th>\n",
       "      <th>Order Month</th>\n",
       "      <th>Total Orders</th>\n",
       "      <th>Cancelled Orders</th>\n",
       "      <th>% cancellation rate</th>\n",
       "    </tr>\n",
       "  </thead>\n",
       "  <tbody>\n",
       "    <tr>\n",
       "      <th>0</th>\n",
       "      <td>2010-12</td>\n",
       "      <td>1955</td>\n",
       "      <td>396</td>\n",
       "      <td>20.26</td>\n",
       "    </tr>\n",
       "    <tr>\n",
       "      <th>1</th>\n",
       "      <td>2011-01</td>\n",
       "      <td>1442</td>\n",
       "      <td>356</td>\n",
       "      <td>24.69</td>\n",
       "    </tr>\n",
       "    <tr>\n",
       "      <th>2</th>\n",
       "      <td>2011-02</td>\n",
       "      <td>1367</td>\n",
       "      <td>267</td>\n",
       "      <td>19.53</td>\n",
       "    </tr>\n",
       "    <tr>\n",
       "      <th>3</th>\n",
       "      <td>2011-03</td>\n",
       "      <td>1906</td>\n",
       "      <td>452</td>\n",
       "      <td>23.71</td>\n",
       "    </tr>\n",
       "    <tr>\n",
       "      <th>4</th>\n",
       "      <td>2011-04</td>\n",
       "      <td>1672</td>\n",
       "      <td>426</td>\n",
       "      <td>25.48</td>\n",
       "    </tr>\n",
       "    <tr>\n",
       "      <th>5</th>\n",
       "      <td>2011-05</td>\n",
       "      <td>2112</td>\n",
       "      <td>431</td>\n",
       "      <td>20.41</td>\n",
       "    </tr>\n",
       "    <tr>\n",
       "      <th>6</th>\n",
       "      <td>2011-06</td>\n",
       "      <td>1969</td>\n",
       "      <td>436</td>\n",
       "      <td>22.14</td>\n",
       "    </tr>\n",
       "    <tr>\n",
       "      <th>7</th>\n",
       "      <td>2011-07</td>\n",
       "      <td>1862</td>\n",
       "      <td>387</td>\n",
       "      <td>20.78</td>\n",
       "    </tr>\n",
       "    <tr>\n",
       "      <th>8</th>\n",
       "      <td>2011-08</td>\n",
       "      <td>1689</td>\n",
       "      <td>328</td>\n",
       "      <td>19.42</td>\n",
       "    </tr>\n",
       "    <tr>\n",
       "      <th>9</th>\n",
       "      <td>2011-09</td>\n",
       "      <td>2268</td>\n",
       "      <td>431</td>\n",
       "      <td>19.00</td>\n",
       "    </tr>\n",
       "    <tr>\n",
       "      <th>10</th>\n",
       "      <td>2011-10</td>\n",
       "      <td>2548</td>\n",
       "      <td>508</td>\n",
       "      <td>19.94</td>\n",
       "    </tr>\n",
       "    <tr>\n",
       "      <th>11</th>\n",
       "      <td>2011-11</td>\n",
       "      <td>3347</td>\n",
       "      <td>578</td>\n",
       "      <td>17.27</td>\n",
       "    </tr>\n",
       "    <tr>\n",
       "      <th>12</th>\n",
       "      <td>2011-12</td>\n",
       "      <td>995</td>\n",
       "      <td>176</td>\n",
       "      <td>17.69</td>\n",
       "    </tr>\n",
       "  </tbody>\n",
       "</table>\n",
       "</div>"
      ],
      "text/plain": [
       "   Order Month  Total Orders  Cancelled Orders % cancellation rate\n",
       "0      2010-12          1955               396               20.26\n",
       "1      2011-01          1442               356               24.69\n",
       "2      2011-02          1367               267               19.53\n",
       "3      2011-03          1906               452               23.71\n",
       "4      2011-04          1672               426               25.48\n",
       "5      2011-05          2112               431               20.41\n",
       "6      2011-06          1969               436               22.14\n",
       "7      2011-07          1862               387               20.78\n",
       "8      2011-08          1689               328               19.42\n",
       "9      2011-09          2268               431               19.00\n",
       "10     2011-10          2548               508               19.94\n",
       "11     2011-11          3347               578               17.27\n",
       "12     2011-12           995               176               17.69"
      ]
     },
     "execution_count": 126,
     "metadata": {},
     "output_type": "execute_result"
    }
   ],
   "source": [
    "total_orders_vs_cancelled_orders"
   ]
  },
  {
   "cell_type": "code",
   "execution_count": 137,
   "id": "09076a1a-71d6-4c2f-9006-60504687e898",
   "metadata": {},
   "outputs": [],
   "source": [
    "total_orders_vs_cancelled_orders_melted =total_orders_vs_cancelled_orders.melt(id_vars=[\"Order Month\"], value_vars=[\"Total Orders\", \"Cancelled Orders\"], \n",
    "                     var_name=\"order_group\", value_name=\"order_value\")"
   ]
  },
  {
   "cell_type": "code",
   "execution_count": 141,
   "id": "637c8d25-a9ba-4ad5-bb21-58ff08e26335",
   "metadata": {},
   "outputs": [
    {
     "data": {
      "text/plain": [
       "Text(0.5, 1.0, 'Total Orders vs. Cancelled Orders')"
      ]
     },
     "execution_count": 141,
     "metadata": {},
     "output_type": "execute_result"
    },
    {
     "data": {
      "image/png": "[encoded data removed]",
      "text/plain": [
       "<Figure size 1000x800 with 1 Axes>"
      ]
     },
     "metadata": {},
     "output_type": "display_data"
    }
   ],
   "source": [
    "fig, ax = plt.subplots(1,1, figsize=(10,8))\n",
    "sns.barplot(total_orders_vs_cancelled_orders_melted, x='Order Month', y='order_value', hue='order_group')\n",
    "\n",
    "ax.set_xlabel('Months')\n",
    "ax.set_ylabel('Total Orders')\n",
    "ax.set_xticks(total_orders_vs_cancelled_orders['Order Month'])\n",
    "ax.set_xticklabels(labels=total_orders_vs_cancelled_orders['Order Month'], rotation=45)  # Rotate x-axis labels\n",
    "\n",
    "ax.set_title('Total Orders vs. Cancelled Orders')"
   ]
  },
  {
   "cell_type": "markdown",
   "id": "560d7658-fe10-4ab3-85ab-c5af2081ad9d",
   "metadata": {},
   "source": [
    "\n",
    "1. **Overall Cancellation Trends:**\n",
    "   - The cancellation rate varies month-to-month, ranging from a high of **25.48%** (April 2011) to a low of **17.27%** (November 2011).\n",
    "\n",
    "2. **Seasonal Patterns:**\n",
    "   - **Early 2011:**  \n",
    "     - December 2010 started with a 20.26% cancellation rate.  \n",
    "     - January and March 2011 maintained high cancellation rates (24.69% and 23.71%, respectively), suggesting a potential seasonal or operational issue at the beginning\n",
    "        of the year.\n",
    "       \n",
    "   - **Mid-Year Fluctuations:**  \n",
    "     - April 2011 stands out with the highest cancellation rate at 25.48%, which could indicate specific issues during this period.\n",
    "     - May through August 2011 show moderate rates (ranging from ~19.42% to 22.14%).\n",
    "       \n",
    "   - **Late 2011 Improvement:**  \n",
    "     - In November and December 2011, cancellation rates drop significantly to 17.27% and 17.69%, respectively. This suggests improvements in order processing or customer satisfaction toward the end of the year.\n",
    "\n",
    "3. **Volume Versus Cancellation Rate:**\n",
    "   - Although November 2011 recorded the highest total orders (3347), it also features one of the lowest cancellation rates (17.27%). This contrast implies that higher order volumes may be associated with better operational efficiency or customer trust during that month.\n",
    "   - Conversely, April 2011, despite having a lower order volume (1672), experienced the highest cancellation rate, indicating potential issues that could be explored further.\n",
    "\n",
    "4. **Implications for Business Strategy:**\n",
    "   - **Investigate High Cancellation Months:**  \n",
    "     The peak cancellation rate in April suggests a need for deeper investigation into the causes—whether they are due to process inefficiencies, external market conditions, or customer-related factors.\n",
    "   - **Leverage Low Cancellation Periods:**  \n",
    "     The lower cancellation rates in November and December can be seen as a benchmark for operational performance and customer satisfaction. These months could be studied further to replicate successful practices in other periods.\n",
    "   - **Targeted Improvements:**  \n",
    "     Identifying the underlying reasons for fluctuations can help design targeted interventions to reduce cancellations, improve customer service, and ultimately increase revenue.\n",
    "\n"
   ]
  },
  {
   "cell_type": "code",
   "execution_count": null,
   "id": "4b01c79a-4f82-4fc7-8d4c-8c51db33647e",
   "metadata": {},
   "outputs": [],
   "source": []
  },
  {
   "cell_type": "code",
   "execution_count": null,
   "id": "fb0feae5-4eb3-4ecd-b0b0-6352300e6ec4",
   "metadata": {},
   "outputs": [],
   "source": []
  },
  {
   "cell_type": "code",
   "execution_count": null,
   "id": "91b27455-8a74-419d-b04a-8b1b2d10976c",
   "metadata": {},
   "outputs": [],
   "source": []
  },
  {
   "cell_type": "code",
   "execution_count": null,
   "id": "fdea64c6-99f9-4983-ab3f-1b0050b7af21",
   "metadata": {},
   "outputs": [],
   "source": []
  },
  {
   "cell_type": "code",
   "execution_count": null,
   "id": "a8650a86-37ed-451b-9612-50c9eb0cc6f0",
   "metadata": {},
   "outputs": [],
   "source": []
  },
  {
   "cell_type": "code",
   "execution_count": null,
   "id": "050643b0-7935-465b-8bf0-4437204d5ab5",
   "metadata": {},
   "outputs": [],
   "source": []
  },
  {
   "cell_type": "markdown",
   "id": "7ca33e5b-ae50-4fd8-b515-cf6263e81a08",
   "metadata": {},
   "source": [
    "## Revenue"
   ]
  },
  {
   "cell_type": "code",
   "execution_count": 143,
   "id": "d256d384-4b23-44e4-b9f2-ec66b1bef6b7",
   "metadata": {},
   "outputs": [],
   "source": [
    "curr.execute(\n",
    "'''\n",
    "WITH invoice_order_value AS (\n",
    "SELECT\n",
    "\tinvoice_no,\n",
    "\tSUM(quantity * unit_price) AS order_value\n",
    "FROM\n",
    "\tinvoice_items\n",
    "GROUP BY\n",
    "\tinvoice_no\n",
    "HAVING \n",
    "\tSUM(quantity * unit_price) > 0 )\n",
    "SELECT \n",
    "\tSUM(order_value) AS total_revenue\n",
    "FROM \n",
    "\tinvoice_order_value\n",
    "WHERE\t\n",
    "\torder_value > 0\n",
    "''')"
   ]
  },
  {
   "cell_type": "code",
   "execution_count": 144,
   "id": "c5d9153c-4843-46da-8ac0-ad3159b34882",
   "metadata": {},
   "outputs": [
    {
     "data": {
      "text/plain": [
       "(Decimal('10643627.27'),)"
      ]
     },
     "execution_count": 144,
     "metadata": {},
     "output_type": "execute_result"
    }
   ],
   "source": [
    "curr.fetchone()"
   ]
  },
  {
   "cell_type": "markdown",
   "id": "2c68202a-cd98-4908-97c7-5fb824142299",
   "metadata": {},
   "source": [
    "**The total revemue is 10,643,627.27 i.e £10.5 Million**"
   ]
  },
  {
   "cell_type": "code",
   "execution_count": 158,
   "id": "7da72d30-b964-435d-b4a3-70fabddfb05f",
   "metadata": {},
   "outputs": [],
   "source": [
    "curr.execute('''\n",
    "WITH invoice_order_value AS (\n",
    "SELECT\n",
    "\tinvoice_no,\n",
    "\tSUM(quantity * unit_price) AS order_value\n",
    "FROM\n",
    "\tinvoice_items\n",
    "GROUP BY\n",
    "\tinvoice_no\n",
    "HAVING \n",
    "\tSUM(quantity * unit_price) < 0 )\n",
    "SELECT \n",
    "\tABS(SUM(order_value)) AS lost_revenue\n",
    "FROM \n",
    "\tinvoice_order_value\n",
    "WHERE\t\n",
    "\torder_value < 0\n",
    "''')"
   ]
  },
  {
   "cell_type": "code",
   "execution_count": 159,
   "id": "db296f8d-0e59-4638-bc8d-9ae12e518367",
   "metadata": {},
   "outputs": [
    {
     "data": {
      "text/plain": [
       "(Decimal('893979.73'),)"
      ]
     },
     "execution_count": 159,
     "metadata": {},
     "output_type": "execute_result"
    }
   ],
   "source": [
    "curr.fetchone()"
   ]
  },
  {
   "cell_type": "markdown",
   "id": "fca38794-4042-41d5-a88a-02bfb205da5f",
   "metadata": {},
   "source": [
    "**Total revenue lost due to cancellation is £ 893,939.72**"
   ]
  },
  {
   "cell_type": "markdown",
   "id": "a7b3349a-9ff3-4bf5-867d-985aebf9e318",
   "metadata": {},
   "source": [
    "### Month Over Month Analysis on Revenue"
   ]
  },
  {
   "cell_type": "code",
   "execution_count": 193,
   "id": "eecceabc-bb8d-4499-ac63-ab917a297385",
   "metadata": {},
   "outputs": [],
   "source": [
    "curr.execute(\n",
    "'''\n",
    "WITH month_by_month_rev AS (\n",
    "SELECT\n",
    "\tTO_CHAR(DATE_TRUNC('months', i.invoice_date), 'YYYY-MM-DD') AS curr_month,\n",
    "\tSUM(ii.quantity * ii.unit_price) AS curr_month_rev \n",
    "FROM\n",
    "\tinvoice_items ii\n",
    "JOIN\n",
    "\tinvoices i\n",
    "ON\n",
    "\ti.invoice_no = ii.invoice_no\n",
    "WHERE\n",
    "\ti.is_cancelled = FALSE\n",
    "GROUP BY\n",
    "\tDATE_TRUNC('months', i.invoice_date)\n",
    "ORDER BY\n",
    "\tDATE_TRUNC('months', i.invoice_date)),\n",
    "month_vs_prev_month AS (\n",
    "SELECT \n",
    "\tcurr_month, \n",
    "\tcurr_month_rev,\n",
    "\tLAG(curr_month_rev) OVER(ORDER BY curr_month) AS prev_month_rev\n",
    "FROM \n",
    "\tmonth_by_month_rev)\n",
    "SELECT\n",
    "\tcurr_month, \n",
    "\tcurr_month_rev, \n",
    "\tCOALESCE(prev_month_rev, 0) AS prev_month_rev,\n",
    "\tCOALESCE(ROUND(((curr_month_rev - prev_month_rev)/(prev_month_rev))*100,2), 0) AS rev_growth\n",
    "FROM\n",
    "\tmonth_vs_prev_month;\n",
    "\n",
    "''')"
   ]
  },
  {
   "cell_type": "code",
   "execution_count": 194,
   "id": "d8d719c5-7392-4403-a172-297de6f59626",
   "metadata": {},
   "outputs": [],
   "source": [
    "mom_rev = pd.DataFrame(curr.fetchall(), columns=['month', 'current_month_rev', 'prev_month_rev', '%_growth'])"
   ]
  },
  {
   "cell_type": "code",
   "execution_count": 195,
   "id": "30b1455d-ea2a-4c38-bb6f-7d39139fd64d",
   "metadata": {},
   "outputs": [
    {
     "data": {
      "text/html": [
       "<div>\n",
       "<style scoped>\n",
       "    .dataframe tbody tr th:only-of-type {\n",
       "        vertical-align: middle;\n",
       "    }\n",
       "\n",
       "    .dataframe tbody tr th {\n",
       "        vertical-align: top;\n",
       "    }\n",
       "\n",
       "    .dataframe thead th {\n",
       "        text-align: right;\n",
       "    }\n",
       "</style>\n",
       "<table border=\"1\" class=\"dataframe\">\n",
       "  <thead>\n",
       "    <tr style=\"text-align: right;\">\n",
       "      <th></th>\n",
       "      <th>month</th>\n",
       "      <th>current_month_rev</th>\n",
       "      <th>prev_month_rev</th>\n",
       "      <th>%_growth</th>\n",
       "    </tr>\n",
       "  </thead>\n",
       "  <tbody>\n",
       "    <tr>\n",
       "      <th>0</th>\n",
       "      <td>2010-12-01</td>\n",
       "      <td>821518.86</td>\n",
       "      <td>0</td>\n",
       "      <td>0</td>\n",
       "    </tr>\n",
       "    <tr>\n",
       "      <th>1</th>\n",
       "      <td>2011-01-01</td>\n",
       "      <td>689931.41</td>\n",
       "      <td>821518.86</td>\n",
       "      <td>-16.02</td>\n",
       "    </tr>\n",
       "    <tr>\n",
       "      <th>2</th>\n",
       "      <td>2011-02-01</td>\n",
       "      <td>522545.56</td>\n",
       "      <td>689931.41</td>\n",
       "      <td>-24.26</td>\n",
       "    </tr>\n",
       "    <tr>\n",
       "      <th>3</th>\n",
       "      <td>2011-03-01</td>\n",
       "      <td>716285.13</td>\n",
       "      <td>522545.56</td>\n",
       "      <td>37.08</td>\n",
       "    </tr>\n",
       "    <tr>\n",
       "      <th>4</th>\n",
       "      <td>2011-04-01</td>\n",
       "      <td>536981.29</td>\n",
       "      <td>716285.13</td>\n",
       "      <td>-25.03</td>\n",
       "    </tr>\n",
       "    <tr>\n",
       "      <th>5</th>\n",
       "      <td>2011-05-01</td>\n",
       "      <td>769685.01</td>\n",
       "      <td>536981.29</td>\n",
       "      <td>43.34</td>\n",
       "    </tr>\n",
       "    <tr>\n",
       "      <th>6</th>\n",
       "      <td>2011-06-01</td>\n",
       "      <td>760547.01</td>\n",
       "      <td>769685.01</td>\n",
       "      <td>-1.19</td>\n",
       "    </tr>\n",
       "    <tr>\n",
       "      <th>7</th>\n",
       "      <td>2011-07-01</td>\n",
       "      <td>718143.61</td>\n",
       "      <td>760547.01</td>\n",
       "      <td>-5.58</td>\n",
       "    </tr>\n",
       "    <tr>\n",
       "      <th>8</th>\n",
       "      <td>2011-08-01</td>\n",
       "      <td>758210.98</td>\n",
       "      <td>718143.61</td>\n",
       "      <td>5.58</td>\n",
       "    </tr>\n",
       "    <tr>\n",
       "      <th>9</th>\n",
       "      <td>2011-09-01</td>\n",
       "      <td>1056442.39</td>\n",
       "      <td>758210.98</td>\n",
       "      <td>39.33</td>\n",
       "    </tr>\n",
       "    <tr>\n",
       "      <th>10</th>\n",
       "      <td>2011-10-01</td>\n",
       "      <td>1151275.93</td>\n",
       "      <td>1056442.39</td>\n",
       "      <td>8.98</td>\n",
       "    </tr>\n",
       "    <tr>\n",
       "      <th>11</th>\n",
       "      <td>2011-11-01</td>\n",
       "      <td>1504269.76</td>\n",
       "      <td>1151275.93</td>\n",
       "      <td>30.66</td>\n",
       "    </tr>\n",
       "    <tr>\n",
       "      <th>12</th>\n",
       "      <td>2011-12-01</td>\n",
       "      <td>637790.33</td>\n",
       "      <td>1504269.76</td>\n",
       "      <td>-57.60</td>\n",
       "    </tr>\n",
       "  </tbody>\n",
       "</table>\n",
       "</div>"
      ],
      "text/plain": [
       "         month current_month_rev prev_month_rev %_growth\n",
       "0   2010-12-01         821518.86              0        0\n",
       "1   2011-01-01         689931.41      821518.86   -16.02\n",
       "2   2011-02-01         522545.56      689931.41   -24.26\n",
       "3   2011-03-01         716285.13      522545.56    37.08\n",
       "4   2011-04-01         536981.29      716285.13   -25.03\n",
       "5   2011-05-01         769685.01      536981.29    43.34\n",
       "6   2011-06-01         760547.01      769685.01    -1.19\n",
       "7   2011-07-01         718143.61      760547.01    -5.58\n",
       "8   2011-08-01         758210.98      718143.61     5.58\n",
       "9   2011-09-01        1056442.39      758210.98    39.33\n",
       "10  2011-10-01        1151275.93     1056442.39     8.98\n",
       "11  2011-11-01        1504269.76     1151275.93    30.66\n",
       "12  2011-12-01         637790.33     1504269.76   -57.60"
      ]
     },
     "execution_count": 195,
     "metadata": {},
     "output_type": "execute_result"
    }
   ],
   "source": [
    "mom_rev"
   ]
  },
  {
   "cell_type": "code",
   "execution_count": 196,
   "id": "c0f610a1-539c-4f78-a3c7-73be61f6b5f9",
   "metadata": {},
   "outputs": [
    {
     "data": {
      "text/plain": [
       "Text(0.5, 1.0, 'Total Revenue: Current Month vs. Previous Month')"
      ]
     },
     "execution_count": 196,
     "metadata": {},
     "output_type": "execute_result"
    },
    {
     "data": {
      "image/png": "[encoded data removed]",
      "text/plain": [
       "<Figure size 1000x800 with 1 Axes>"
      ]
     },
     "metadata": {},
     "output_type": "display_data"
    }
   ],
   "source": [
    "fig, ax = plt.subplots(1,1, figsize=(10,8))    \n",
    "\n",
    "sns.lineplot(mom_rev, x='month', y='current_month_rev', label='Current Month Total Revenue', marker='o' )\n",
    "sns.lineplot(mom_rev, x='month', y='prev_month_rev', label='Previous Month Total Revenue', marker='o',linestyle='dashed', alpha=0.3)\n",
    "ax.set_xlabel('Months')\n",
    "ax.set_ylabel('Total Revenue')\n",
    "ax.set_xticks(mom_rev['month'])\n",
    "ax.set_xticklabels(labels=mom_rev['month'], rotation=45)  # Rotate x-axis labels\n",
    "\n",
    "ax.set_title('Total Revenue: Current Month vs. Previous Month')"
   ]
  },
  {
   "cell_type": "markdown",
   "id": "a909b783-094f-46ab-ad07-1c6cec04184c",
   "metadata": {},
   "source": [
    "### Month Over Month Revenue Lost"
   ]
  },
  {
   "cell_type": "code",
   "execution_count": 188,
   "id": "c3d625ce-f748-4e2f-a477-ba01ab76da82",
   "metadata": {},
   "outputs": [],
   "source": [
    "curr.execute(\n",
    "'''\n",
    "WITH month_by_month_rev_lost AS (\n",
    "SELECT\n",
    "\tTO_CHAR(DATE_TRUNC('months', i.invoice_date), 'YYYY-MM-DD') AS curr_month,\n",
    "\tSUM(ii.quantity * ii.unit_price) AS curr_month_rev_lost \n",
    "FROM\n",
    "\tinvoice_items ii\n",
    "JOIN\n",
    "\tinvoices i\n",
    "ON\n",
    "\ti.invoice_no = ii.invoice_no\n",
    "WHERE\n",
    "\ti.is_cancelled = TRUE\n",
    "GROUP BY\n",
    "\tDATE_TRUNC('months', i.invoice_date)\n",
    "ORDER BY\n",
    "\tDATE_TRUNC('months', i.invoice_date)),\n",
    "month_vs_prev_month AS (\n",
    "SELECT \n",
    "\tcurr_month, \n",
    "\tcurr_month_rev_lost,\n",
    "\tLAG(curr_month_rev_lost) OVER(ORDER BY curr_month) AS prev_month_rev_lost\n",
    "FROM \n",
    "\tmonth_by_month_rev_lost)\n",
    "SELECT\n",
    "\tcurr_month, \n",
    "\tABS(curr_month_rev_lost) AS current_month_revenue_lost, \n",
    "\tCOALESCE(ABS(prev_month_rev_lost), 0) AS prev_month_rev_lost,\n",
    "\tCOALESCE(ROUND(((ABS(curr_month_rev_lost) - ABS(prev_month_rev_lost))/(ABS(prev_month_rev_lost)))*100,2), 0) AS rev_lost_change\n",
    "FROM\n",
    "\tmonth_vs_prev_month;\n",
    "''')"
   ]
  },
  {
   "cell_type": "code",
   "execution_count": 189,
   "id": "511ed538-316c-447b-9499-1aab8d5e2c83",
   "metadata": {},
   "outputs": [],
   "source": [
    "mom_rev_lost = pd.DataFrame(curr.fetchall(), columns=['month', 'current_month_rev_lost', 'prev_month_rev_lost', '%_growth'])"
   ]
  },
  {
   "cell_type": "code",
   "execution_count": 191,
   "id": "e134dfe9-13aa-4df0-9c94-fc1d3fe0d07a",
   "metadata": {},
   "outputs": [
    {
     "data": {
      "text/html": [
       "<div>\n",
       "<style scoped>\n",
       "    .dataframe tbody tr th:only-of-type {\n",
       "        vertical-align: middle;\n",
       "    }\n",
       "\n",
       "    .dataframe tbody tr th {\n",
       "        vertical-align: top;\n",
       "    }\n",
       "\n",
       "    .dataframe thead th {\n",
       "        text-align: right;\n",
       "    }\n",
       "</style>\n",
       "<table border=\"1\" class=\"dataframe\">\n",
       "  <thead>\n",
       "    <tr style=\"text-align: right;\">\n",
       "      <th></th>\n",
       "      <th>month</th>\n",
       "      <th>current_month_rev_lost</th>\n",
       "      <th>prev_month_rev_lost</th>\n",
       "      <th>%_growth</th>\n",
       "    </tr>\n",
       "  </thead>\n",
       "  <tbody>\n",
       "    <tr>\n",
       "      <th>0</th>\n",
       "      <td>2010-12-01</td>\n",
       "      <td>74729.12</td>\n",
       "      <td>0</td>\n",
       "      <td>0</td>\n",
       "    </tr>\n",
       "    <tr>\n",
       "      <th>1</th>\n",
       "      <td>2011-01-01</td>\n",
       "      <td>131363.05</td>\n",
       "      <td>74729.12</td>\n",
       "      <td>75.79</td>\n",
       "    </tr>\n",
       "    <tr>\n",
       "      <th>2</th>\n",
       "      <td>2011-02-01</td>\n",
       "      <td>25519.15</td>\n",
       "      <td>131363.05</td>\n",
       "      <td>-80.57</td>\n",
       "    </tr>\n",
       "    <tr>\n",
       "      <th>3</th>\n",
       "      <td>2011-03-01</td>\n",
       "      <td>34201.28</td>\n",
       "      <td>25519.15</td>\n",
       "      <td>34.02</td>\n",
       "    </tr>\n",
       "    <tr>\n",
       "      <th>4</th>\n",
       "      <td>2011-04-01</td>\n",
       "      <td>44600.65</td>\n",
       "      <td>34201.28</td>\n",
       "      <td>30.41</td>\n",
       "    </tr>\n",
       "    <tr>\n",
       "      <th>5</th>\n",
       "      <td>2011-05-01</td>\n",
       "      <td>47202.51</td>\n",
       "      <td>44600.65</td>\n",
       "      <td>5.83</td>\n",
       "    </tr>\n",
       "    <tr>\n",
       "      <th>6</th>\n",
       "      <td>2011-06-01</td>\n",
       "      <td>70569.78</td>\n",
       "      <td>47202.51</td>\n",
       "      <td>49.50</td>\n",
       "    </tr>\n",
       "    <tr>\n",
       "      <th>7</th>\n",
       "      <td>2011-07-01</td>\n",
       "      <td>37919.13</td>\n",
       "      <td>70569.78</td>\n",
       "      <td>-46.27</td>\n",
       "    </tr>\n",
       "    <tr>\n",
       "      <th>8</th>\n",
       "      <td>2011-08-01</td>\n",
       "      <td>54330.80</td>\n",
       "      <td>37919.13</td>\n",
       "      <td>43.28</td>\n",
       "    </tr>\n",
       "    <tr>\n",
       "      <th>9</th>\n",
       "      <td>2011-09-01</td>\n",
       "      <td>38838.51</td>\n",
       "      <td>54330.80</td>\n",
       "      <td>-28.51</td>\n",
       "    </tr>\n",
       "    <tr>\n",
       "      <th>10</th>\n",
       "      <td>2011-10-01</td>\n",
       "      <td>81895.50</td>\n",
       "      <td>38838.51</td>\n",
       "      <td>110.86</td>\n",
       "    </tr>\n",
       "    <tr>\n",
       "      <th>11</th>\n",
       "      <td>2011-11-01</td>\n",
       "      <td>47720.98</td>\n",
       "      <td>81895.50</td>\n",
       "      <td>-41.73</td>\n",
       "    </tr>\n",
       "    <tr>\n",
       "      <th>12</th>\n",
       "      <td>2011-12-01</td>\n",
       "      <td>205089.27</td>\n",
       "      <td>47720.98</td>\n",
       "      <td>329.77</td>\n",
       "    </tr>\n",
       "  </tbody>\n",
       "</table>\n",
       "</div>"
      ],
      "text/plain": [
       "         month current_month_rev_lost prev_month_rev_lost %_growth\n",
       "0   2010-12-01               74729.12                   0        0\n",
       "1   2011-01-01              131363.05            74729.12    75.79\n",
       "2   2011-02-01               25519.15           131363.05   -80.57\n",
       "3   2011-03-01               34201.28            25519.15    34.02\n",
       "4   2011-04-01               44600.65            34201.28    30.41\n",
       "5   2011-05-01               47202.51            44600.65     5.83\n",
       "6   2011-06-01               70569.78            47202.51    49.50\n",
       "7   2011-07-01               37919.13            70569.78   -46.27\n",
       "8   2011-08-01               54330.80            37919.13    43.28\n",
       "9   2011-09-01               38838.51            54330.80   -28.51\n",
       "10  2011-10-01               81895.50            38838.51   110.86\n",
       "11  2011-11-01               47720.98            81895.50   -41.73\n",
       "12  2011-12-01              205089.27            47720.98   329.77"
      ]
     },
     "execution_count": 191,
     "metadata": {},
     "output_type": "execute_result"
    }
   ],
   "source": [
    "mom_rev_lost"
   ]
  },
  {
   "cell_type": "code",
   "execution_count": 202,
   "id": "1b9e2287-5f31-4b1c-b4c8-190603e34346",
   "metadata": {},
   "outputs": [],
   "source": [
    "rev_df = pd.concat([mom_rev['month'],mom_rev['current_month_rev'], mom_rev_lost['current_month_rev_lost']], axis=1)"
   ]
  },
  {
   "cell_type": "code",
   "execution_count": 203,
   "id": "8cc30453-cec6-4bda-b1fc-59844b62ed6b",
   "metadata": {},
   "outputs": [
    {
     "data": {
      "text/html": [
       "<div>\n",
       "<style scoped>\n",
       "    .dataframe tbody tr th:only-of-type {\n",
       "        vertical-align: middle;\n",
       "    }\n",
       "\n",
       "    .dataframe tbody tr th {\n",
       "        vertical-align: top;\n",
       "    }\n",
       "\n",
       "    .dataframe thead th {\n",
       "        text-align: right;\n",
       "    }\n",
       "</style>\n",
       "<table border=\"1\" class=\"dataframe\">\n",
       "  <thead>\n",
       "    <tr style=\"text-align: right;\">\n",
       "      <th></th>\n",
       "      <th>month</th>\n",
       "      <th>current_month_rev</th>\n",
       "      <th>current_month_rev_lost</th>\n",
       "    </tr>\n",
       "  </thead>\n",
       "  <tbody>\n",
       "    <tr>\n",
       "      <th>0</th>\n",
       "      <td>2010-12-01</td>\n",
       "      <td>821518.86</td>\n",
       "      <td>74729.12</td>\n",
       "    </tr>\n",
       "    <tr>\n",
       "      <th>1</th>\n",
       "      <td>2011-01-01</td>\n",
       "      <td>689931.41</td>\n",
       "      <td>131363.05</td>\n",
       "    </tr>\n",
       "    <tr>\n",
       "      <th>2</th>\n",
       "      <td>2011-02-01</td>\n",
       "      <td>522545.56</td>\n",
       "      <td>25519.15</td>\n",
       "    </tr>\n",
       "    <tr>\n",
       "      <th>3</th>\n",
       "      <td>2011-03-01</td>\n",
       "      <td>716285.13</td>\n",
       "      <td>34201.28</td>\n",
       "    </tr>\n",
       "    <tr>\n",
       "      <th>4</th>\n",
       "      <td>2011-04-01</td>\n",
       "      <td>536981.29</td>\n",
       "      <td>44600.65</td>\n",
       "    </tr>\n",
       "    <tr>\n",
       "      <th>5</th>\n",
       "      <td>2011-05-01</td>\n",
       "      <td>769685.01</td>\n",
       "      <td>47202.51</td>\n",
       "    </tr>\n",
       "    <tr>\n",
       "      <th>6</th>\n",
       "      <td>2011-06-01</td>\n",
       "      <td>760547.01</td>\n",
       "      <td>70569.78</td>\n",
       "    </tr>\n",
       "    <tr>\n",
       "      <th>7</th>\n",
       "      <td>2011-07-01</td>\n",
       "      <td>718143.61</td>\n",
       "      <td>37919.13</td>\n",
       "    </tr>\n",
       "    <tr>\n",
       "      <th>8</th>\n",
       "      <td>2011-08-01</td>\n",
       "      <td>758210.98</td>\n",
       "      <td>54330.80</td>\n",
       "    </tr>\n",
       "    <tr>\n",
       "      <th>9</th>\n",
       "      <td>2011-09-01</td>\n",
       "      <td>1056442.39</td>\n",
       "      <td>38838.51</td>\n",
       "    </tr>\n",
       "    <tr>\n",
       "      <th>10</th>\n",
       "      <td>2011-10-01</td>\n",
       "      <td>1151275.93</td>\n",
       "      <td>81895.50</td>\n",
       "    </tr>\n",
       "    <tr>\n",
       "      <th>11</th>\n",
       "      <td>2011-11-01</td>\n",
       "      <td>1504269.76</td>\n",
       "      <td>47720.98</td>\n",
       "    </tr>\n",
       "    <tr>\n",
       "      <th>12</th>\n",
       "      <td>2011-12-01</td>\n",
       "      <td>637790.33</td>\n",
       "      <td>205089.27</td>\n",
       "    </tr>\n",
       "  </tbody>\n",
       "</table>\n",
       "</div>"
      ],
      "text/plain": [
       "         month current_month_rev current_month_rev_lost\n",
       "0   2010-12-01         821518.86               74729.12\n",
       "1   2011-01-01         689931.41              131363.05\n",
       "2   2011-02-01         522545.56               25519.15\n",
       "3   2011-03-01         716285.13               34201.28\n",
       "4   2011-04-01         536981.29               44600.65\n",
       "5   2011-05-01         769685.01               47202.51\n",
       "6   2011-06-01         760547.01               70569.78\n",
       "7   2011-07-01         718143.61               37919.13\n",
       "8   2011-08-01         758210.98               54330.80\n",
       "9   2011-09-01        1056442.39               38838.51\n",
       "10  2011-10-01        1151275.93               81895.50\n",
       "11  2011-11-01        1504269.76               47720.98\n",
       "12  2011-12-01         637790.33              205089.27"
      ]
     },
     "execution_count": 203,
     "metadata": {},
     "output_type": "execute_result"
    }
   ],
   "source": [
    "rev_df"
   ]
  },
  {
   "cell_type": "code",
   "execution_count": 211,
   "id": "5a7ce2f2-a75e-4bf9-bf7f-1d34eda05d79",
   "metadata": {},
   "outputs": [
    {
     "data": {
      "text/plain": [
       "Text(0.5, 1.0, 'Total Revenue vs. Lost Revenue: by months ')"
      ]
     },
     "execution_count": 211,
     "metadata": {},
     "output_type": "execute_result"
    },
    {
     "data": {
      "image/png": "[encoded data removed]",
      "text/plain": [
       "<Figure size 1000x800 with 1 Axes>"
      ]
     },
     "metadata": {},
     "output_type": "display_data"
    }
   ],
   "source": [
    "fig, ax = plt.subplots(1,1, figsize=(10,8))\n",
    "\n",
    "sns.barplot(rev_df, x='month', y='current_month_rev')\n",
    "sns.lineplot(rev_df, x='month', y='current_month_rev_lost', marker='o', color='red')\n",
    "\n",
    "\n",
    "ax.set_xlabel('Months')\n",
    "ax.set_ylabel('Revenue')\n",
    "ax.set_xticks(rev_df['month'])\n",
    "ax.set_xticklabels(labels=rev_df['month'], rotation=45)  # Rotate x-axis labels\n",
    "\n",
    "ax.set_title('Total Revenue vs. Lost Revenue: by months ')"
   ]
  },
  {
   "cell_type": "markdown",
   "id": "ffa2ac0e-e564-455d-bc01-7ff3d61812eb",
   "metadata": {},
   "source": [
    "- **Investigate Anomalies:**  \n",
    "  - The drastic decline in revenue and spike in lost revenue in December 2011 merit further investigation. Understanding the underlying causes—be it seasonal effects, promotional issues, or operational challenges—could help mitigate similar occurrences in the future.\n",
    "\n",
    "- **Optimize Cancellation Processes:**  \n",
    "  - Since lost revenue is relatively low in most months but peaks in specific periods, focusing on strategies to reduce cancellations during high-risk months (like January and December) could enhance overall profitability.\n"
   ]
  },
  {
   "cell_type": "code",
   "execution_count": null,
   "id": "01d31c13-40e7-4cc3-a3d6-4fd12ed752bd",
   "metadata": {},
   "outputs": [],
   "source": []
  }
 ],
 "metadata": {
  "kernelspec": {
   "display_name": "Python 3 (ipykernel)",
   "language": "python",
   "name": "python3"
  },
  "language_info": {
   "codemirror_mode": {
    "name": "ipython",
    "version": 3
   },
   "file_extension": ".py",
   "mimetype": "text/x-python",
   "name": "python",
   "nbconvert_exporter": "python",
   "pygments_lexer": "ipython3",
   "version": "3.10.13"
  }
 },
 "nbformat": 4,
 "nbformat_minor": 5
}
